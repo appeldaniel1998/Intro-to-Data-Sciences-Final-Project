{
 "cells": [
  {
   "cell_type": "markdown",
   "metadata": {},
   "source": [
    "# Introduction to Data Sciences: Final Project\n",
    "## Part 1: Probability"
   ]
  },
  {
   "cell_type": "markdown",
   "metadata": {},
   "source": [
    "#### <b> Question 1a: <b>\n",
    "**Question:**<br>\n",
    "<blockquote> approximately $\\frac{1}{125}$ of the births are non identical twins and $\\frac{1}{300}$ of the births are identical twins. Elvis had a twin brother who died at birth. What is the probability that Elvis was an identical twin? (we can assume the probability of boy vs girl births is identical: $\\frac{1}{2}$) </blockquote>\n",
    "<b> Answer: </b><br>\n",
    "We shall use the Bayes' theorem to provide an answer. <br>\n",
    "Bayes' theorem states:$$ P(A|B) = \\frac{P(B|A) \\times P(A) }{P(B)} $$\n",
    "    \n",
    "Let us define $A$ and $B$ for future reference: <br>\n",
    "$A$: The probability that the twins are identical boys <br>\n",
    "$B$: The probability for twin boys (both identical and non identical) <br>\n",
    "$P(A|B)$ is the value we want to find as the answer to the question posed (given twins, what is the probability that htey are identical)<br><br>\n",
    "\n",
    "The probability of identical boy twins is one half of the probability of identical twins (boys and girls) - using the assumption allowed in the question. let us mark this probability as $ P_{identicalBoys} $ <br>\n",
    "$$ P_{identicalBoys} = \\frac{1}{300} \\times \\frac{1}{2} = \\frac{1}{600} $$ <br>\n",
    "The probability of non identical boy twins is the probability of the first child being born a boy times the probability of the second child being born a boy. let us mark this probability as $ P_{nonIdenticalBoys} $ <br>\n",
    "$ P_{nonIdenticalBoys} = \\frac{1}{125} \\times \\frac{1}{2} \\times \\frac{1}{2} = \\frac{1}{125} \\times \\frac{1}{4} = \\frac{1}{500} $ <br>\n",
    "$P(B)$ is the sum of the 2 possibilities of twin boys (identical and non identical)\n",
    "$$ P(B) = \\frac{1}{600} + \\frac{1}{500} = \\frac{11}{3000} = 0.00366666 $$\n",
    "$P(A)$ is according to the given value of the probability for identical twins times the probability of the children to be boys ($ \\frac{1}{2} $)\n",
    "$$ P(A) = P_{identicalBoys} = \\frac{1}{600} $$\n",
    "$P(B|A)$ is the probability that there are boy twins given the boy twins are identical (slightly absurd wording, and an obvious answer - 1, because all identical twins are twins, thus all identical boy twins are boy twins)\n",
    "$$ P(B|A) = 1 $$\n",
    "We can build the equation according to Bayes' theorem and answer the question:\n",
    "$$ P(A|B) = \\frac{1 \\times \\frac{1}{600} }{\\frac{11}{3000}} = \\frac{3000}{11 \\times 600} = \\frac{5}{11} = 0.45454545 $$\n",
    "<b>Final Answer: </b> The probability that Elvis was an identical twin is $ 0.45454545 $\n",
    "<br><br>\n",
    "    \n",
    "    \n",
    "    \n",
    "#### <b> Question 1b: <b>\n",
    "<b> Question: </b><br>\n",
    "<blockquote> There are 2 jars of cookies. The first jar contains 10 almond cookies and 30 chocolate ones, the second: 20 almond cookies and 20 chocolate ones. Arik chose a jar at random and a cookie from that jar at random. The chosen cookie turned out to be chocolate. What is the probability that Arik chose the first jar? </blockquote>\n",
    "<b> Answer: </b><br>\n",
    "We shall use the Bayes' theorem to provide an answer. <br>\n",
    "Bayes' theorem states:$$ P(A|B) = \\frac{P(B|A) \\times P(A) }{P(B)} $$\n",
    "    \n",
    "Let us define $A$ and $B$ for future reference: <br>\n",
    "$P(A)$: The probability to chose the first jar <br>\n",
    "$P(B)$: The probability to chose a chocolate cookie (in general) <br>\n",
    "$P(A|B)$ is the value we want to find as the answer to the question posed (given a chocolate cookie was chosen, what is the probability that Arik chose the first cookie jar)<br><br>\n",
    "    \n",
    "$P(B)$: The probability for choosing a chocolate cookie in general is the sum of probabilitis of either choosing the first jar and a chocolate cookie from within or choosing the second jar and a chocolate cookie from within:\n",
    "$$P(B) = \\frac{1}{2} \\times \\frac{30}{40} + \\frac{1}{2} \\times \\frac{20}{40} = \\frac{30}{80} + \\frac{20}{80} = \\frac{50}{80} = \\frac{5}{8} = 0.625 $$\n",
    "$P(A)$: The probability for choosing the first jar:\n",
    "$$P(A) = \\frac{1}{2}$$\n",
    "$P(B|A)$ is the probability of choosing a chocolate cookie given the first jar was chosen. We will use Kolmogorov's definition (from which the Bayes' theorem originates) in order to calculate this. Kolmogorov's definition states:\n",
    "$$ P(B|A) = \\frac{P(A) \\cap P(B)}{P(A)} $$\n",
    "<br>\n",
    "$$ P(A) \\cap P(B) = \\frac{1}{2} $$\n",
    "$$ P(B|A) = \\frac{10}{40} = \\frac{1}{4} = 0.25 $$\n",
    "We can bild the equation according to Bayes' theorem and answer the question:\n",
    "$$ P(A|B) = \\frac{\\frac{1}{4} \\times \\frac{1}{2} }{\\frac{5}{8}} = \\frac{\\frac{1}{8}}{\\frac{5}{8}} = \\frac{8}{40} =  $$"
   ]
  },
  {
   "cell_type": "markdown",
   "metadata": {},
   "source": []
  },
  {
   "cell_type": "markdown",
   "metadata": {},
   "source": []
  },
  {
   "cell_type": "markdown",
   "metadata": {},
   "source": []
  },
  {
   "cell_type": "markdown",
   "metadata": {},
   "source": []
  },
  {
   "cell_type": "markdown",
   "metadata": {},
   "source": []
  }
 ],
 "metadata": {
  "kernelspec": {
   "display_name": "Python 3",
   "language": "python",
   "name": "python3"
  },
  "language_info": {
   "codemirror_mode": {
    "name": "ipython",
    "version": 3
   },
   "file_extension": ".py",
   "mimetype": "text/x-python",
   "name": "python",
   "nbconvert_exporter": "python",
   "pygments_lexer": "ipython3",
   "version": "3.8.3"
  }
 },
 "nbformat": 4,
 "nbformat_minor": 4
}
